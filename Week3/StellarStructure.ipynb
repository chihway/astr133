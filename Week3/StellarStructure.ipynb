{
 "cells": [
  {
   "cell_type": "markdown",
   "metadata": {},
   "source": [
    "## Stellar Structure\n",
    "\n",
    "In this notebook, we will first explore some simple web-based stellar structure code, and then plot their outputs."
   ]
  },
  {
   "cell_type": "markdown",
   "metadata": {},
   "source": [
    "### Step 1\n",
    "\n",
    "Go to: http://www.astro.wisc.edu/~townsend/static.php?ref=ez-web#toc-Submit_a_Calculation\n",
    ". This is a web interface that solves the stellar structure equations we taught in class numerically and sends yout the results of the calculation. Read through the section \"Using EZ-Web\" to understand which are the parameters the code can vary. We note, that this is a much simpler (thus less realistic) version of the code MESA, which also has an online interface: http://mesa-web.asu.edu/index.html.\n",
    "\n",
    "Play with the interface and do submit one stellar structure calculation.\n",
    "\n",
    "### Step 2\n",
    "\n",
    "The calculation may take a while. When it's done, you will get an email to download it. You can then upload it to midway and play with it on this notebook, or you can play with it directly on your laptop.\n",
    "\n",
    "### Step 3\n",
    "\n",
    "For now, I have ran the default calculation and stored the outputs here: `/project2/astr133/Week3/EZ-Web_output/`. In the notebook below, we will make some plots with the outputs.\n"
   ]
  },
  {
   "cell_type": "code",
   "execution_count": 1,
   "metadata": {},
   "outputs": [
    {
     "name": "stdout",
     "output_type": "stream",
     "text": [
      "Populating the interactive namespace from numpy and matplotlib\n"
     ]
    }
   ],
   "source": [
    "import numpy as np\n",
    "import pylab as mplot\n",
    "%pylab inline"
   ]
  }
 ],
 "metadata": {
  "kernelspec": {
   "display_name": "Python 3",
   "language": "python",
   "name": "python3"
  },
  "language_info": {
   "codemirror_mode": {
    "name": "ipython",
    "version": 3
   },
   "file_extension": ".py",
   "mimetype": "text/x-python",
   "name": "python",
   "nbconvert_exporter": "python",
   "pygments_lexer": "ipython3",
   "version": "3.6.5"
  }
 },
 "nbformat": 4,
 "nbformat_minor": 2
}
