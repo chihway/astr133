{
 "cells": [
  {
   "cell_type": "markdown",
   "metadata": {},
   "source": [
    "# Discovering the Solar Cycle\n",
    "\n",
    "Author: Maria Weber\n",
    "\n",
    "In this exercise, we will use actual observational data to discover many properties of the solar cycle and its impact on Low-Earth-Orbiting (LEO) satellites. Here the data has been collected by scientists all over the world and input into convenient tables which we read in for this exercise.  "
   ]
  },
  {
   "cell_type": "markdown",
   "metadata": {},
   "source": [
    "### The Sunspot Number Time Series\n",
    "\n",
    "Ever since the invention of the telescope, astronomers have been recording the number of sunspots that appear on the Sun's surface. We will be looking at this timeseries, which begins in 1750 and extends to the present day. The values plotted are the total number of sunspots observed on the Sun each month. \n",
    "\n",
    "Click on the box below, then click 'Run' in the tool bar above to import some packages we need to plot the data."
   ]
  },
  {
   "cell_type": "code",
   "execution_count": null,
   "metadata": {},
   "outputs": [],
   "source": [
    "# Need to import some packages\n",
    "import numpy as np\n",
    "import matplotlib.pyplot as plt"
   ]
  },
  {
   "cell_type": "markdown",
   "metadata": {},
   "source": [
    "Click on the next box, then click 'Run' to read in the sunspot number data table and plot the **Sunspot Number Time Series**."
   ]
  },
  {
   "cell_type": "code",
   "execution_count": null,
   "metadata": {
    "scrolled": false
   },
   "outputs": [],
   "source": [
    "# Read in the complete sunspot number time series\n",
    "year1, sn1 = np.loadtxt('SN_ms_tot_V2.0.txt', usecols=(2, 3), unpack=True)\n",
    "\n",
    "# Remove unwanted values from the data table\n",
    "sn1[sn1 < 0] = np.nan\n",
    "\n",
    "# Create the plot\n",
    "plt.gcf().set_size_inches(15, 8) # Set the size\n",
    "plt.plot(year1, sn1) # Plot sunspot number as a function of time\n",
    "plt.axis([1749.55, 2018.705, 0, 300]) # Plotting range [x1,x2,y1,y2]\n",
    "plt.title('Sunspot Number Time Series') # Label plot\n",
    "plt.ylabel('Sunspot Number') # Label y-axis\n",
    "plt.xlabel('Year') #Label x-axis\n",
    "plt.minorticks_on() \n",
    "plt.show() # Show the plot!"
   ]
  },
  {
   "cell_type": "markdown",
   "metadata": {},
   "source": [
    "What do you notice about the **Sunspot Number Time Series**? Think about:\n",
    "* Periodicity of the time series.\n",
    "* Amplitude of the maxima and minima.\n",
    "* Are there other interesting features?"
   ]
  },
  {
   "cell_type": "markdown",
   "metadata": {},
   "source": [
    "### Zooming in on the Sunspot Number Time Series\n",
    "\n",
    "Next let's zoom in on the **Sunspot Number Time Series** over the last ~30 years. \n",
    "\n",
    "Click on the next box, then click 'Run' in the tool bar above to plot the **Sunspot Number Time Series** over a shorter period of time."
   ]
  },
  {
   "cell_type": "code",
   "execution_count": null,
   "metadata": {
    "scrolled": false
   },
   "outputs": [],
   "source": [
    "# Let's plot the Sunspot Number Time Series over a particular range\n",
    "\n",
    "# Create the plot\n",
    "plt.gcf().set_size_inches(15, 8) # Set the size\n",
    "plt.plot(year1, sn1) # Plot sunspot number as a function of time\n",
    "plt.axis([1985., 2019.4, 0, 300]) # Plotting range [x1,x2,y1,y2]\n",
    "plt.title('Sunspot Number Time Series')\n",
    "plt.ylabel('Sunspot Number')\n",
    "plt.xlabel('Year')\n",
    "plt.show()"
   ]
  },
  {
   "cell_type": "markdown",
   "metadata": {},
   "source": [
    "What particular features do you notice about these last three sunspot cycles? How are they different or similar to previous sunspot cycles? \n",
    "\n",
    "**Try** modifying the code in the box above to zoom in on a different time range of the Sunspot Number Time Series. For instance, you can change the 'Year' x-axis by modifying the first two numbers in plt.axis(). Click 'Run' to plot the **Sunspot Number Time Series** over a new time period.   "
   ]
  },
  {
   "cell_type": "markdown",
   "metadata": {},
   "source": [
    "## Investigating Contributions to the Total Sunspot Number from the North and South Hemispheres\n",
    "\n",
    "Over the past ~25 years, astronomers have been recording separately the number of sunspots observed in the Northern and Southern solar hemispheres. Would you expect the number of sunspots in both hemispheres to roughly follow the same trends? Let's find out!\n",
    "\n",
    "Click on the next box, then click 'Run' to plot the **Sunspot Number Time Series** over the past ~25 years. \n",
    "\n",
    "The blue curve is the total sunspot number, magenta is the contribution from the Northern hemisphere sunspots, and goldenrod is the contribution from the Southern hemisphere. "
   ]
  },
  {
   "cell_type": "code",
   "execution_count": null,
   "metadata": {
    "scrolled": false
   },
   "outputs": [],
   "source": [
    "# Let's plot the Sunspot Number Time Series for each hemisphere\n",
    "\n",
    "# Read in the sunspot number data broken down into hemisphere\n",
    "year2, sn2, sn_north, sn_south = np.loadtxt('SN_ms_hem_V2.0.txt', usecols=(2, 3, 4, 5), unpack=True)\n",
    "\n",
    "# Remove unwanted values from the data table\n",
    "sn2[sn2 < 0] = np.nan\n",
    "sn_north[sn_north < 0] = np.nan\n",
    "sn_south[sn_south < 0] = np.nan\n",
    "\n",
    "# Create the plot\n",
    "plt.gcf().set_size_inches(15, 8) # Set the size\n",
    "plt.plot(year2, sn2) # Plot total sunspot number - BLUE\n",
    "plt.plot(year2, sn_north, color = 'magenta')   # Plot Northern hemisphere sunspots - MAGENTA\n",
    "plt.plot(year2, sn_south, color = 'goldenrod') # Plot Southern hemisphere sunspots - GOLDENROD\n",
    "plt.axis([1992, 2020, 0, 200]) # Plotting range [x1,x2,y1,y2]\n",
    "plt.title('Sunspot Number Time Series') # Label plot\n",
    "plt.ylabel('Sunspot Number') # Label y-axis\n",
    "plt.xlabel('Year') # Label x-axis\n",
    "plt.show() # Show the plot!"
   ]
  },
  {
   "cell_type": "markdown",
   "metadata": {},
   "source": [
    "How do the sunspots from individual hemispheres contribute to the total sunspot number? Is it the same between the two cycles?  "
   ]
  },
  {
   "cell_type": "markdown",
   "metadata": {},
   "source": [
    "## Satellite Failure and the Solar Cycle\n",
    "\n",
    "Right now, there are nearly 5000 working satellites orbiting Earth. Satellites in Low Earth Orbit (LEO) orbit between 300 - 1000 km above the ground. Because Earth's atmosphere extends hundreds of kilometers into space, LEO satellites sometimes experience enough frictional drag from the extreme upper atmosphere that they fall back to Earth.   \n",
    "\n",
    "Below we will plot the total sunspot number over three cycles and the total number of satellites that fall back to Earth during that same time period. Click on the next box, then click 'Run' to create the plot.  "
   ]
  },
  {
   "cell_type": "code",
   "execution_count": null,
   "metadata": {
    "scrolled": false
   },
   "outputs": [],
   "source": [
    "# Plot the correlation between satellite failure and the sunspot cycle\n",
    "\n",
    "# Read in the satellite data\n",
    "year3, sfail = np.loadtxt('satellites.txt', usecols=(0,1), unpack=True)\n",
    "\n",
    "# Create the axes and plot\n",
    "fig, ax1 = plt.subplots()\n",
    "\n",
    "color = 'tab:red'\n",
    "ax1.set_xlabel('Year')\n",
    "ax1.set_ylabel('Satellite Re-entry', color=color)\n",
    "ax1.plot(year3, sfail, color=color, marker = 'o')\n",
    "ax1.tick_params(axis='y', labelcolor=color)\n",
    "\n",
    "ax2 = ax1.twinx()  # instantiate a second axes that shares the same x-axis\n",
    "\n",
    "color = 'tab:blue'\n",
    "ax2.set_ylabel('Sunspot Number', color=color)  # we already handled the x-label with ax1\n",
    "ax2.plot(year1, sn1, color=color)\n",
    "ax2.tick_params(axis='y', labelcolor=color)\n",
    "\n",
    "plt.gcf().set_size_inches(14, 8) # Set the size\n",
    "plt.axis([1968, 2005, 0, 250])\n",
    "plt.title('Satellite Failure and the Solar Cycle')\n",
    "fig.tight_layout()  # otherwise the right y-label is slightly clipped\n",
    "plt.show()"
   ]
  },
  {
   "cell_type": "markdown",
   "metadata": {},
   "source": [
    "Think about the following questions:\n",
    "* What do you notice about the correlation between the two data sets? \n",
    "* If you were a satellite operator, would you be concerned? \n",
    "* What are some ways that solar activity could impact satellite operation?"
   ]
  },
  {
   "cell_type": "code",
   "execution_count": null,
   "metadata": {},
   "outputs": [],
   "source": []
  }
 ],
 "metadata": {
  "kernelspec": {
   "display_name": "Python 3",
   "language": "python",
   "name": "python3"
  },
  "language_info": {
   "codemirror_mode": {
    "name": "ipython",
    "version": 3
   },
   "file_extension": ".py",
   "mimetype": "text/x-python",
   "name": "python",
   "nbconvert_exporter": "python",
   "pygments_lexer": "ipython3",
   "version": "3.6.3"
  }
 },
 "nbformat": 4,
 "nbformat_minor": 2
}
