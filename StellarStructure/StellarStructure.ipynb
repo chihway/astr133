{
 "cells": [
  {
   "cell_type": "markdown",
   "metadata": {},
   "source": [
    "## Stellar Structure\n",
    "\n",
    "Author: Chihway Chang\n",
    "\n",
    "In this notebook, we will first explore some simple web-based stellar structure code, and then plot their outputs."
   ]
  },
  {
   "cell_type": "markdown",
   "metadata": {},
   "source": [
    "### Step 1\n",
    "\n",
    "Go to: http://www.astro.wisc.edu/~townsend/static.php?ref=ez-web#toc-Submit_a_Calculation\n",
    ". This is a web interface that solves the stellar structure equations we taught in class numerically and sends yout the results of the calculation. Read through the section \"Using EZ-Web\" to understand which are the parameters the code can vary. We note, that this is a much simpler (thus less realistic) version of the code MESA, which also has an online interface: http://mesa-web.asu.edu/index.html.\n",
    "\n",
    "Play with the interface and do submit one stellar structure calculation.\n",
    "\n",
    "### Step 2\n",
    "\n",
    "The calculation may take a while. When it's done, you will get an email to download it. You can then upload it to midway and play with it on this notebook, or you can play with it directly on your laptop.\n",
    "\n",
    "### Step 3\n",
    "\n",
    "For now, I have ran the default calculation and stored the outputs here: `/project2/astr13300/Week3/EZ-Web_output/`. In the notebook below, we will make some plots with the outputs.\n"
   ]
  },
  {
   "cell_type": "code",
   "execution_count": null,
   "metadata": {},
   "outputs": [],
   "source": [
    "# import the necessary python modules\n",
    "import numpy as np\n",
    "import pylab as mplot\n",
    "%pylab inline"
   ]
  },
  {
   "cell_type": "markdown",
   "metadata": {},
   "source": [
    "### First plot the summary\n",
    "\n",
    "This is the stellar evolution for a Sun-like star"
   ]
  },
  {
   "cell_type": "code",
   "execution_count": null,
   "metadata": {},
   "outputs": [],
   "source": [
    "summary = np.loadtxt('/project2/astr13300/StellarStructure/EZ-Web_output/summary.txt')"
   ]
  },
  {
   "cell_type": "code",
   "execution_count": null,
   "metadata": {},
   "outputs": [],
   "source": [
    "# Plot Mass vs. Age of the star\n",
    "mplot.plot(summary[:,1], summary[:,2])\n",
    "mplot.xlabel('Age (years)')\n",
    "mplot.ylabel('Mass (Solar Mass)')"
   ]
  },
  {
   "cell_type": "code",
   "execution_count": null,
   "metadata": {},
   "outputs": [],
   "source": [
    "# Plot Luminosity vs. Age of the star\n",
    "mplot.plot(summary[:,1], summary[:,18], label='p-p chain')\n",
    "mplot.plot(summary[:,1], summary[:,20], label='triple-alpha reaction')\n",
    "mplot.plot(summary[:,1], summary[:,19], label='CNO cycle')\n",
    "mplot.yscale('log')\n",
    "mplot.xlabel('Age (years)')\n",
    "mplot.ylabel('Luminosity (Solar Luminosity)')\n",
    "mplot.legend()"
   ]
  },
  {
   "cell_type": "markdown",
   "metadata": {},
   "source": [
    "### Next plot the stellar structure at a few time points"
   ]
  },
  {
   "cell_type": "code",
   "execution_count": null,
   "metadata": {},
   "outputs": [],
   "source": [
    "age1 = summary[:,1][-1]\n",
    "age2 = summary[:,1][100]\n",
    "age3 = summary[:,1][60]\n",
    "print('Age of star at time step 905:', age1, 'years')\n",
    "print('Age of star at time step 100:', age2, 'years')\n",
    "print('Age of star at time step 60:', age3, 'years')"
   ]
  },
  {
   "cell_type": "code",
   "execution_count": null,
   "metadata": {},
   "outputs": [],
   "source": [
    "# read the stellar structure files at time step 60,100,905\n",
    "strcture3 = np.loadtxt('/project2/astr13300/StellarStructure/EZ-Web_output/structure_00060.txt')\n",
    "strcture2 = np.loadtxt('/project2/astr13300/StellarStructure/EZ-Web_output/structure_00100.txt')\n",
    "strcture1 = np.loadtxt('/project2/astr13300/StellarStructure/EZ-Web_output/structure_00905.txt')\n"
   ]
  },
  {
   "cell_type": "code",
   "execution_count": null,
   "metadata": {},
   "outputs": [],
   "source": [
    "# Plot T vs. radius when the Sun was 4,8,12 billions year old\n",
    "mplot.loglog(strcture1[:,1], strcture1[:,5], label='12 billion yrs')\n",
    "mplot.loglog(strcture2[:,1], strcture2[:,5], label='8 billion yrs')\n",
    "mplot.loglog(strcture3[:,1], strcture3[:,5], label='4 billion yrs')\n",
    "mplot.yscale('linear')\n",
    "mplot.xlabel('R (Solar radius)')\n",
    "mplot.ylabel('T')\n",
    "mplot.legend()"
   ]
  },
  {
   "cell_type": "code",
   "execution_count": null,
   "metadata": {},
   "outputs": [],
   "source": [
    "# Plot T vs. density when the Sun was 4,8,12 billions year old\n",
    "mplot.loglog(strcture1[:,1], strcture1[:,4], label='12 billion yrs')\n",
    "mplot.loglog(strcture2[:,1], strcture2[:,4], label='8 billion yrs')\n",
    "mplot.loglog(strcture3[:,1], strcture3[:,4], label='4 billion yrs')\n",
    "mplot.xlabel('R (Solar radius)')\n",
    "mplot.ylabel('Density')\n",
    "mplot.legend()"
   ]
  },
  {
   "cell_type": "code",
   "execution_count": null,
   "metadata": {},
   "outputs": [],
   "source": []
  }
 ],
 "metadata": {
  "kernelspec": {
   "display_name": "Python 3",
   "language": "python",
   "name": "python3"
  },
  "language_info": {
   "codemirror_mode": {
    "name": "ipython",
    "version": 3
   },
   "file_extension": ".py",
   "mimetype": "text/x-python",
   "name": "python",
   "nbconvert_exporter": "python",
   "pygments_lexer": "ipython3",
   "version": "3.6.3"
  }
 },
 "nbformat": 4,
 "nbformat_minor": 2
}
