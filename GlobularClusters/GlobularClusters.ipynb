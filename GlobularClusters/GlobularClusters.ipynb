{
 "cells": [
  {
   "cell_type": "markdown",
   "metadata": {},
   "source": [
    "# Globular Clusters\n",
    "\n",
    "In this notebook, you will examine the stellar distribution of the Milky Way globular cluster, NGC 1904 (M79). By the end of this notebook, you will have set a minimum size scale for our Milky Way galaxy *and* a lower bound on the age of the Universe."
   ]
  },
  {
   "cell_type": "code",
   "execution_count": null,
   "metadata": {},
   "outputs": [],
   "source": [
    "# Standard python imports\n",
    "%matplotlib inline\n",
    "import matplotlib\n",
    "matplotlib.rcParams['font.size'] = 20\n",
    "\n",
    "from os.path import join,exists\n",
    "import numpy as np\n",
    "import pylab as plt\n",
    "\n",
    "from astropy.io import fits \n",
    "import astropy.coordinates\n",
    "from astropy.coordinates import SkyCoord\n",
    "from astropy import units as u"
   ]
  },
  {
   "cell_type": "code",
   "execution_count": null,
   "metadata": {},
   "outputs": [],
   "source": [
    "def load_stars():\n",
    "    \"\"\"\n",
    "    Load the DES stellar catalog from a given healpix. This applies a\n",
    "    cut on EXTENDED_CLASS_MASH_SOF == 0 to select a high-purity\n",
    "    stellar sample. See the DES DR1 paper for more details:\n",
    "    https://arxiv.org/abs/1801.03181\n",
    "\n",
    "    Parameters\n",
    "    ----------\n",
    "    hpx : NSIDE=32 healpix pixel to load catalog from.\n",
    "\n",
    "    Returns\n",
    "    -------\n",
    "    stars : stellar catalog as numpy array\n",
    "\n",
    "    \"\"\"\n",
    "    filepath = '/project2/astr13300/Week7/y3_gold_2_2_08668.fits'\n",
    "    data = fits.open(filepath)[1].data\n",
    "    stars = data[data['EXTENDED_CLASS_MASH_SOF'] == 0]\n",
    "    return stars"
   ]
  },
  {
   "cell_type": "code",
   "execution_count": null,
   "metadata": {},
   "outputs": [],
   "source": [
    "def load_isochrone(age, metallicity):\n",
    "    \"\"\"\n",
    "    Load a synthetic isochrone in the DES bandpass from a library\n",
    "    of PARSEC isochrones from Bressan et al. (2012):\n",
    "    https://arxiv.org/abs/1208.4498\n",
    "\n",
    "    Parameters\n",
    "    ----------\n",
    "    age         : isochrone age in Gyr\n",
    "    metallicity : isocrhone metallicity (Z)\n",
    "\n",
    "    Returns\n",
    "    -------\n",
    "    iso         : array of isochrone values\n",
    "    \"\"\"\n",
    "    dirname = '/project2/astr13300/Week7/isochrones/des/bressan2012'\n",
    "    filepath = join(dirname,f'iso_a{age:04.1f}_z{metallicity:0.5f}.dat')\n",
    "    if not exists(filepath):\n",
    "        msg  = \"File not found: %s\\n\"%filepath\n",
    "        msg += \"Parameters out of range:\\n\"\n",
    "        msg += \"  1 Gyr <= Age <= 13.5 Gyr\\n\"\n",
    "        msg += \"  0.0010 <= Z <= 0.00010\"\n",
    "        raise Exception(msg)\n",
    "    iso = np.genfromtxt(filepath,names=True,skip_header=13,comments='#')   \n",
    "    return iso"
   ]
  },
  {
   "cell_type": "code",
   "execution_count": null,
   "metadata": {},
   "outputs": [],
   "source": [
    "def plot_color_magnitude_diagram(stars=None):\n",
    "    \"\"\"Plot a color magnitude diagram of stars.\n",
    "    \n",
    "    Parameters\n",
    "    ----------\n",
    "    stars : stars to plot (or load if `None`)\n",
    "    \n",
    "    Returns\n",
    "    -------\n",
    "    color,mag : color and magnitude of stars\n",
    "    \"\"\"\n",
    "    # Load the stars\n",
    "    if stars is None: stars = load_stars()\n",
    "\n",
    "    RA,DEC = 81.046, -24.525\n",
    "    # Calculate angular separation\n",
    "    gc = SkyCoord(RA*u.deg, DEC*u.deg )\n",
    "    coords = SkyCoord(stars['RA']*u.deg,stars['DEC']*u.deg)\n",
    "    sep = gc.separation(coords)\n",
    "\n",
    "    # Select stars within 0.2 deg and with good magnitudes\n",
    "    sel = sep < 0.2*u.deg\n",
    "    sel &= stars['WAVG_MAG_PSF_G'] < 30\n",
    "    sel &= stars['WAVG_MAG_PSF_R'] < 30\n",
    "    data = stars[sel]\n",
    "\n",
    "    mag    = data['WAVG_MAG_PSF_G']\n",
    "    color  = (data['WAVG_MAG_PSF_G']-data['WAVG_MAG_PSF_R'])\n",
    "\n",
    "    plt.figure(figsize=(8,6))\n",
    "    plt.scatter(color,mag,alpha=0.2)\n",
    "    plt.xlim(0.0,1.0)\n",
    "    plt.ylim(24,17)\n",
    "    plt.xlabel('g - r')\n",
    "    plt.ylabel('g')\n",
    "    return color,mag"
   ]
  },
  {
   "cell_type": "code",
   "execution_count": null,
   "metadata": {},
   "outputs": [],
   "source": [
    "def plot_isochrone(age,metallicity,distance):\n",
    "    \"\"\"Load and plot an isochrone.\n",
    "\n",
    "    Parameters\n",
    "    ----------\n",
    "    age : age of the isochrone (Gyr)\n",
    "    metallicity : metallicity of the isochrone (mass fraction, unitless)\n",
    "    distance : distance to stellar system (kpc)\n",
    "\n",
    "    Returns\n",
    "    -------\n",
    "    None\n",
    "    \"\"\"\n",
    "    isochrone = load_isochrone(age=age,metallicity=metallicity)\n",
    "    distance_modulus = 5*np.log10(distance*100)\n",
    "    plt.scatter(isochrone['g']-isochrone['r'],isochrone['g']+distance_modulus,c='r')"
   ]
  },
  {
   "cell_type": "markdown",
   "metadata": {},
   "source": [
    "<div class=\"alert alert-info\" style=\"color:black\">\n",
    "<h3>Exercise 1</h3>\n",
    "<hr>\n",
    "NGC 1904 (M79) is a Milky Way globular cluster located at RA,DEC = 81.046, -24.525. We are going to use data from DES DR1 to measure some of the properties of this cluster. \n",
    "<ol>\n",
    "    <li> Use the <a href=\"http://legacysurvey.org/viewer?ra=81.046&dec=-24.525&zoom=8&layer=des-dr1\">DECaLS Legacy Viewer</a> to examine a color image of this cluster (you may need to pan and zoom).</li>\n",
    "    <li>What do you notice about the color of the most of the stars in the globular cluster relative to other stars and galaxies in this image?</li>\n",
    "    <li>Astronomical data is never perfect. Identify at least one feature in the image that looks like an artifact of the instrument or data processing.</li>\n",
    "</ol>\n",
    "</div>"
   ]
  },
  {
   "cell_type": "markdown",
   "metadata": {},
   "source": [
    "**Your answers here:**"
   ]
  },
  {
   "cell_type": "markdown",
   "metadata": {},
   "source": [
    "<div class=\"alert alert-info\" style=\"color:black\">\n",
    "<h3>Exercise 2</h3>\n",
    "<hr>\n",
    "To learn more about this globular cluster, we would like to make a <b>color-magnitude diagram</b> of its stars. In a color-magnitude diagram, stars are ordered by color (a proxy for temperature) on the x-axis and magnitude (a proxy for luminosity) on the y-axis. Run the code block below to create a color-magnitude diagram of stars around NGC 1904.\n",
    "<ol>\n",
    "    <li>What corner of the plot hosts faint red stars? (Careful, magnitudes are counter intuitive.)</li>\n",
    "    <li>Where would the bright blue stars be? Why don't you see any?</li>\n",
    "    <li>Where are the oldest stars on this figure? (Careful!)</li>\n",
    "</ol>\n",
    "</div>"
   ]
  },
  {
   "cell_type": "code",
   "execution_count": null,
   "metadata": {},
   "outputs": [],
   "source": [
    "stars = load_stars()\n",
    "color,mag = plot_color_magnitude_diagram(stars)"
   ]
  },
  {
   "cell_type": "markdown",
   "metadata": {},
   "source": [
    "**Your answers here:**"
   ]
  },
  {
   "cell_type": "markdown",
   "metadata": {},
   "source": [
    "<div class=\"alert alert-info\" style=\"color:black\">\n",
    "<h3>Exercise 3</h3>\n",
    "<hr>\n",
    "The stars in NGC 1904 were created at very nearly the same time and have evolved together. However, stars evolved at different rates. More massive stars have shorter lifetimes (burn bright, die young!), while the faintest stars can live longer than the current age of the Universe. A snapshot of the population of stars at a given time is called an <b>isochrone</b> (from the Greek for \"equal time\"). By fitting an isochrone to the stellar distribution in NGC 1904 we can determine several properties of this cluster.\n",
    "<ol>\n",
    "    <li>Using the code below, overplot an isochrone on the color magnitude diagram.</li>\n",
    "    <li>Adjust the distance (in kpc), age (in Gyr), and metallicity (unitless mass fraction) to find an isochrone that fits the distribution of stars in color-magnitude space.</li>\n",
    "    <li>What are your best fit parameters? If the globular cluster was formed in our Galaxy, what does its distance tell you about the minimum size of our Galaxy? What does its age tell you about the minimum age of the Universe?</li>\n",
    "</ol>\n",
    "</div>"
   ]
  },
  {
   "cell_type": "code",
   "execution_count": null,
   "metadata": {},
   "outputs": [],
   "source": [
    "color,mag = plot_color_magnitude_diagram(stars)\n",
    "plot_isochrone(age=5, metallicity=0.0010, distance=10)"
   ]
  },
  {
   "cell_type": "markdown",
   "metadata": {},
   "source": [
    "**Your answers here:**"
   ]
  }
 ],
 "metadata": {
  "kernelspec": {
   "display_name": "Python 3",
   "language": "python",
   "name": "python3"
  },
  "language_info": {
   "codemirror_mode": {
    "name": "ipython",
    "version": 3
   },
   "file_extension": ".py",
   "mimetype": "text/x-python",
   "name": "python",
   "nbconvert_exporter": "python",
   "pygments_lexer": "ipython3",
   "version": "3.6.3"
  }
 },
 "nbformat": 4,
 "nbformat_minor": 2
}
